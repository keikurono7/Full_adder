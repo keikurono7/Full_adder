{
  "nbformat": 4,
  "nbformat_minor": 0,
  "metadata": {
    "colab": {
      "provenance": []
    },
    "kernelspec": {
      "name": "python3",
      "display_name": "Python 3"
    },
    "language_info": {
      "name": "python"
    }
  },
  "cells": [
    {
      "cell_type": "markdown",
      "source": [
        "#Simulating Full Adder\n"
      ],
      "metadata": {
        "id": "B2XuEgPbN082"
      }
    },
    {
      "cell_type": "markdown",
      "source": [
        "importing required packages"
      ],
      "metadata": {
        "id": "bIWJFwV5N9BE"
      }
    },
    {
      "cell_type": "code",
      "execution_count": 1,
      "metadata": {
        "id": "vjt0Da1IPhnI"
      },
      "outputs": [],
      "source": [
        "import matplotlib.pyplot as plt\n",
        "import numpy as np"
      ]
    },
    {
      "cell_type": "markdown",
      "source": [
        "Functions to add and show the result on plot"
      ],
      "metadata": {
        "id": "wGou2oHOOLpL"
      }
    },
    {
      "cell_type": "code",
      "source": [
        "def add(x,y,z,s):\n",
        "  sum = x + y + z\n",
        "  if sum == 1:\n",
        "    sho(s,3,0.75)\n",
        "    return 0\n",
        "  else:\n",
        "    if sum == 2:\n",
        "      sho(s,1,1.25)\n",
        "      return 1\n",
        "    elif sum == 3:\n",
        "      return 1\n",
        "    else:\n",
        "      sho(s,1,1.25)\n",
        "      sho(s,3,1.25)\n",
        "      return 0\n",
        "\n",
        "def sho(s,u,v):\n",
        "  ax.add_patch(plt.Rectangle((s, u), v,1.25, color='white'))\n",
        "\n"
      ],
      "metadata": {
        "id": "lA_OBeWYpDgJ"
      },
      "execution_count": 2,
      "outputs": []
    },
    {
      "cell_type": "markdown",
      "source": [
        "Getting input and covnverting it to binary list"
      ],
      "metadata": {
        "id": "PjVcOO18OVpd"
      }
    },
    {
      "cell_type": "code",
      "source": [
        "a1 = int(input(\"Enter a number (<16) \"))\n",
        "a2 = int(input(\"Enter a number (<16) \"))\n",
        "a1 = bin(a1)\n",
        "a2 = bin(a2)\n",
        "a1 = a1[2:]\n",
        "a2 = a2[2:]\n",
        "a1 = a1[::-1]\n",
        "a1 = f\"{a1:04}\"\n",
        "a2 = a2[::-1]\n",
        "a2 = f\"{a2:04}\"\n",
        "a = list(a1)\n",
        "b = list(a2)"
      ],
      "metadata": {
        "colab": {
          "base_uri": "https://localhost:8080/"
        },
        "id": "xEckLraHNfx_",
        "outputId": "daf4e88b-8b5e-4fe2-9239-93dd9d3ad8f7"
      },
      "execution_count": 3,
      "outputs": [
        {
          "name": "stdout",
          "output_type": "stream",
          "text": [
            "Enter a number (<16) 5\n",
            "Enter a number (<16) 9\n"
          ]
        }
      ]
    },
    {
      "cell_type": "markdown",
      "source": [
        "Creating a plot, using the function add and sho to get result and representing on plot"
      ],
      "metadata": {
        "id": "cHzF-G-hObjl"
      }
    },
    {
      "cell_type": "code",
      "source": [
        "#Creating the plot\n",
        "fig, ax = plt.subplots()\n",
        "patch = []\n",
        "dist = 7.5\n",
        "height = 1\n",
        "for i in range(8):\n",
        "  if i == 4:\n",
        "    dist = 7.5\n",
        "    height = 3\n",
        "  patch.append(plt.Rectangle((dist, height), 1.25, 1.25, color='blue'))\n",
        "  dist = dist - 1.75\n",
        "dist = 2.37\n",
        "for i in range(8):\n",
        "  patch.append(plt.Rectangle((dist, 2.25), 0.1, 0.75, color='grey'))\n",
        "  dist = dist + 0.88\n",
        "\n",
        "patch.append(plt.Rectangle((0.5, 1), 1.25, 1.25, color='blue'))\n",
        "\n",
        "dist = 8\n",
        "for i in range(4):\n",
        "  patch.append(plt.Rectangle((dist, 2.80), 0.25, 1.50, color='white'))\n",
        "  dist = dist - 1.75\n",
        "\n",
        "for i in range(21):\n",
        "  ax.add_patch(patch[i])\n",
        "\n",
        "#Computing and adding result patches\n",
        "w=0\n",
        "size = 7.5\n",
        "for i in range(4):\n",
        "  w = add(int(a[i]),int(b[i]),w,size)\n",
        "  size = size - 1.75\n",
        "if w == 0:\n",
        "  sho(0.5,1,1.25)\n",
        "\n",
        "#Plotting the graph\n",
        "ax.set_aspect('equal')\n",
        "ax.set_xlim([0, 9])\n",
        "ax.set_ylim([0, 5])\n",
        "fig.set_size_inches(12, 18)\n",
        "plt.show()"
      ],
      "metadata": {
        "colab": {
          "base_uri": "https://localhost:8080/",
          "height": 582
        },
        "id": "-F_IoN27NiuD",
        "outputId": "96297cfc-eb02-4324-bfef-70b6488822e4"
      },
      "execution_count": 4,
      "outputs": [
        {
          "output_type": "display_data",
          "data": {
            "text/plain": [
              "<Figure size 1200x1800 with 1 Axes>"
            ],
            "image/png": "[encoded data removed]"
          },
          "metadata": {}
        }
      ]
    },
    {
      "cell_type": "markdown",
      "source": [
        "Representing the plot"
      ],
      "metadata": {
        "id": "xeEhWowbOkUr"
      }
    }
  ]
}